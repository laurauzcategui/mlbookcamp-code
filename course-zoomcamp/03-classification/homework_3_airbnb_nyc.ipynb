{
 "cells": [
  {
   "cell_type": "markdown",
   "id": "981b6e61",
   "metadata": {},
   "source": [
    "### Dataset\n",
    "\n",
    "In this homework, we will continue the New York City Airbnb Open Data. You can take it from\n",
    "[Kaggle](https://www.kaggle.com/dgomonov/new-york-city-airbnb-open-data?select=AB_NYC_2019.csv)\n",
    "or download from [here](https://raw.githubusercontent.com/alexeygrigorev/datasets/master/AB_NYC_2019.csv)\n",
    "if you don't want to sign up to Kaggle.\n",
    "\n",
    "We'll keep working with the `'price'` variable, and we'll transform it to a classification task."
   ]
  },
  {
   "cell_type": "code",
   "execution_count": 300,
   "id": "1fc061eb",
   "metadata": {},
   "outputs": [],
   "source": [
    "from pathlib import PurePath, Path\n",
    "import pandas as pd \n",
    "from sklearn.model_selection import train_test_split\n",
    "import numpy as np\n",
    "import matplotlib.pyplot as plt"
   ]
  },
  {
   "cell_type": "code",
   "execution_count": 301,
   "id": "f3343a09",
   "metadata": {},
   "outputs": [],
   "source": [
    "def download_dataset():\n",
    "    dataset = \"new-york-city-airbnb-open-data\"\n",
    "    datasets_path = \"../../datasets\"\n",
    "    fullpath = Path(datasets_path,f\"{dataset}.zip\")\n",
    "    \n",
    "    if not fullpath.is_file():\n",
    "        !kaggle datasets download -d dgomonov/$dataset -p $datasets_path\n",
    "        !ls $fullpath\n",
    "        !unzip $fullpath -d $datasets_path -o"
   ]
  },
  {
   "cell_type": "code",
   "execution_count": 302,
   "id": "49a39656",
   "metadata": {},
   "outputs": [],
   "source": [
    "download_dataset()"
   ]
  },
  {
   "cell_type": "code",
   "execution_count": 303,
   "id": "2fc922f8",
   "metadata": {},
   "outputs": [],
   "source": [
    "# Read the data \n",
    "path_to_data = \"../../datasets/AB_NYC_2019.csv\"\n",
    "data = pd.read_csv(path_to_data)"
   ]
  },
  {
   "cell_type": "code",
   "execution_count": 304,
   "id": "f23a1c0f",
   "metadata": {},
   "outputs": [
    {
     "data": {
      "text/html": [
       "<div>\n",
       "<style scoped>\n",
       "    .dataframe tbody tr th:only-of-type {\n",
       "        vertical-align: middle;\n",
       "    }\n",
       "\n",
       "    .dataframe tbody tr th {\n",
       "        vertical-align: top;\n",
       "    }\n",
       "\n",
       "    .dataframe thead th {\n",
       "        text-align: right;\n",
       "    }\n",
       "</style>\n",
       "<table border=\"1\" class=\"dataframe\">\n",
       "  <thead>\n",
       "    <tr style=\"text-align: right;\">\n",
       "      <th></th>\n",
       "      <th>id</th>\n",
       "      <th>name</th>\n",
       "      <th>host_id</th>\n",
       "      <th>host_name</th>\n",
       "      <th>neighbourhood_group</th>\n",
       "      <th>neighbourhood</th>\n",
       "      <th>latitude</th>\n",
       "      <th>longitude</th>\n",
       "      <th>room_type</th>\n",
       "      <th>price</th>\n",
       "      <th>minimum_nights</th>\n",
       "      <th>number_of_reviews</th>\n",
       "      <th>last_review</th>\n",
       "      <th>reviews_per_month</th>\n",
       "      <th>calculated_host_listings_count</th>\n",
       "      <th>availability_365</th>\n",
       "    </tr>\n",
       "  </thead>\n",
       "  <tbody>\n",
       "    <tr>\n",
       "      <th>0</th>\n",
       "      <td>2539</td>\n",
       "      <td>Clean &amp; quiet apt home by the park</td>\n",
       "      <td>2787</td>\n",
       "      <td>John</td>\n",
       "      <td>Brooklyn</td>\n",
       "      <td>Kensington</td>\n",
       "      <td>40.64749</td>\n",
       "      <td>-73.97237</td>\n",
       "      <td>Private room</td>\n",
       "      <td>149</td>\n",
       "      <td>1</td>\n",
       "      <td>9</td>\n",
       "      <td>2018-10-19</td>\n",
       "      <td>0.21</td>\n",
       "      <td>6</td>\n",
       "      <td>365</td>\n",
       "    </tr>\n",
       "    <tr>\n",
       "      <th>1</th>\n",
       "      <td>2595</td>\n",
       "      <td>Skylit Midtown Castle</td>\n",
       "      <td>2845</td>\n",
       "      <td>Jennifer</td>\n",
       "      <td>Manhattan</td>\n",
       "      <td>Midtown</td>\n",
       "      <td>40.75362</td>\n",
       "      <td>-73.98377</td>\n",
       "      <td>Entire home/apt</td>\n",
       "      <td>225</td>\n",
       "      <td>1</td>\n",
       "      <td>45</td>\n",
       "      <td>2019-05-21</td>\n",
       "      <td>0.38</td>\n",
       "      <td>2</td>\n",
       "      <td>355</td>\n",
       "    </tr>\n",
       "    <tr>\n",
       "      <th>2</th>\n",
       "      <td>3647</td>\n",
       "      <td>THE VILLAGE OF HARLEM....NEW YORK !</td>\n",
       "      <td>4632</td>\n",
       "      <td>Elisabeth</td>\n",
       "      <td>Manhattan</td>\n",
       "      <td>Harlem</td>\n",
       "      <td>40.80902</td>\n",
       "      <td>-73.94190</td>\n",
       "      <td>Private room</td>\n",
       "      <td>150</td>\n",
       "      <td>3</td>\n",
       "      <td>0</td>\n",
       "      <td>NaN</td>\n",
       "      <td>NaN</td>\n",
       "      <td>1</td>\n",
       "      <td>365</td>\n",
       "    </tr>\n",
       "    <tr>\n",
       "      <th>3</th>\n",
       "      <td>3831</td>\n",
       "      <td>Cozy Entire Floor of Brownstone</td>\n",
       "      <td>4869</td>\n",
       "      <td>LisaRoxanne</td>\n",
       "      <td>Brooklyn</td>\n",
       "      <td>Clinton Hill</td>\n",
       "      <td>40.68514</td>\n",
       "      <td>-73.95976</td>\n",
       "      <td>Entire home/apt</td>\n",
       "      <td>89</td>\n",
       "      <td>1</td>\n",
       "      <td>270</td>\n",
       "      <td>2019-07-05</td>\n",
       "      <td>4.64</td>\n",
       "      <td>1</td>\n",
       "      <td>194</td>\n",
       "    </tr>\n",
       "    <tr>\n",
       "      <th>4</th>\n",
       "      <td>5022</td>\n",
       "      <td>Entire Apt: Spacious Studio/Loft by central park</td>\n",
       "      <td>7192</td>\n",
       "      <td>Laura</td>\n",
       "      <td>Manhattan</td>\n",
       "      <td>East Harlem</td>\n",
       "      <td>40.79851</td>\n",
       "      <td>-73.94399</td>\n",
       "      <td>Entire home/apt</td>\n",
       "      <td>80</td>\n",
       "      <td>10</td>\n",
       "      <td>9</td>\n",
       "      <td>2018-11-19</td>\n",
       "      <td>0.10</td>\n",
       "      <td>1</td>\n",
       "      <td>0</td>\n",
       "    </tr>\n",
       "  </tbody>\n",
       "</table>\n",
       "</div>"
      ],
      "text/plain": [
       "     id                                              name  host_id  \\\n",
       "0  2539                Clean & quiet apt home by the park     2787   \n",
       "1  2595                             Skylit Midtown Castle     2845   \n",
       "2  3647               THE VILLAGE OF HARLEM....NEW YORK !     4632   \n",
       "3  3831                   Cozy Entire Floor of Brownstone     4869   \n",
       "4  5022  Entire Apt: Spacious Studio/Loft by central park     7192   \n",
       "\n",
       "     host_name neighbourhood_group neighbourhood  latitude  longitude  \\\n",
       "0         John            Brooklyn    Kensington  40.64749  -73.97237   \n",
       "1     Jennifer           Manhattan       Midtown  40.75362  -73.98377   \n",
       "2    Elisabeth           Manhattan        Harlem  40.80902  -73.94190   \n",
       "3  LisaRoxanne            Brooklyn  Clinton Hill  40.68514  -73.95976   \n",
       "4        Laura           Manhattan   East Harlem  40.79851  -73.94399   \n",
       "\n",
       "         room_type  price  minimum_nights  number_of_reviews last_review  \\\n",
       "0     Private room    149               1                  9  2018-10-19   \n",
       "1  Entire home/apt    225               1                 45  2019-05-21   \n",
       "2     Private room    150               3                  0         NaN   \n",
       "3  Entire home/apt     89               1                270  2019-07-05   \n",
       "4  Entire home/apt     80              10                  9  2018-11-19   \n",
       "\n",
       "   reviews_per_month  calculated_host_listings_count  availability_365  \n",
       "0               0.21                               6               365  \n",
       "1               0.38                               2               355  \n",
       "2                NaN                               1               365  \n",
       "3               4.64                               1               194  \n",
       "4               0.10                               1                 0  "
      ]
     },
     "execution_count": 304,
     "metadata": {},
     "output_type": "execute_result"
    }
   ],
   "source": [
    "data.head()"
   ]
  },
  {
   "cell_type": "markdown",
   "id": "ce3a0a72",
   "metadata": {},
   "source": [
    "### Features\n",
    "\n",
    "For the rest of the homework, you'll need to use the features from the previous homework with additional two `'neighbourhood_group'` and `'room_type'`. So the whole feature set will be set as follows:\n",
    "\n",
    "* `'neighbourhood_group'`,\n",
    "* `'room_type'`,\n",
    "* `'latitude'`,\n",
    "* `'longitude'`,\n",
    "* `'price'`,\n",
    "* `'minimum_nights'`,\n",
    "* `'number_of_reviews'`,\n",
    "* `'reviews_per_month'`,\n",
    "* `'calculated_host_listings_count'`,\n",
    "* `'availability_365'`"
   ]
  },
  {
   "cell_type": "markdown",
   "id": "40391a26",
   "metadata": {},
   "source": [
    "Select only them and fill in the missing values with 0."
   ]
  },
  {
   "cell_type": "code",
   "execution_count": 305,
   "id": "af4fc5c6",
   "metadata": {},
   "outputs": [],
   "source": [
    "features = [ 'neighbourhood_group', 'latitude', 'longitude', 'room_type', 'price',\n",
    "             'minimum_nights', 'number_of_reviews', 'reviews_per_month', 'calculated_host_listings_count',\n",
    "             'availability_365']"
   ]
  },
  {
   "cell_type": "code",
   "execution_count": 306,
   "id": "ddeb8b27",
   "metadata": {},
   "outputs": [
    {
     "data": {
      "text/html": [
       "<div>\n",
       "<style scoped>\n",
       "    .dataframe tbody tr th:only-of-type {\n",
       "        vertical-align: middle;\n",
       "    }\n",
       "\n",
       "    .dataframe tbody tr th {\n",
       "        vertical-align: top;\n",
       "    }\n",
       "\n",
       "    .dataframe thead th {\n",
       "        text-align: right;\n",
       "    }\n",
       "</style>\n",
       "<table border=\"1\" class=\"dataframe\">\n",
       "  <thead>\n",
       "    <tr style=\"text-align: right;\">\n",
       "      <th></th>\n",
       "      <th>neighbourhood_group</th>\n",
       "      <th>latitude</th>\n",
       "      <th>longitude</th>\n",
       "      <th>room_type</th>\n",
       "      <th>price</th>\n",
       "      <th>minimum_nights</th>\n",
       "      <th>number_of_reviews</th>\n",
       "      <th>reviews_per_month</th>\n",
       "      <th>calculated_host_listings_count</th>\n",
       "      <th>availability_365</th>\n",
       "    </tr>\n",
       "  </thead>\n",
       "  <tbody>\n",
       "    <tr>\n",
       "      <th>0</th>\n",
       "      <td>Brooklyn</td>\n",
       "      <td>40.64749</td>\n",
       "      <td>-73.97237</td>\n",
       "      <td>Private room</td>\n",
       "      <td>149</td>\n",
       "      <td>1</td>\n",
       "      <td>9</td>\n",
       "      <td>0.21</td>\n",
       "      <td>6</td>\n",
       "      <td>365</td>\n",
       "    </tr>\n",
       "    <tr>\n",
       "      <th>1</th>\n",
       "      <td>Manhattan</td>\n",
       "      <td>40.75362</td>\n",
       "      <td>-73.98377</td>\n",
       "      <td>Entire home/apt</td>\n",
       "      <td>225</td>\n",
       "      <td>1</td>\n",
       "      <td>45</td>\n",
       "      <td>0.38</td>\n",
       "      <td>2</td>\n",
       "      <td>355</td>\n",
       "    </tr>\n",
       "    <tr>\n",
       "      <th>2</th>\n",
       "      <td>Manhattan</td>\n",
       "      <td>40.80902</td>\n",
       "      <td>-73.94190</td>\n",
       "      <td>Private room</td>\n",
       "      <td>150</td>\n",
       "      <td>3</td>\n",
       "      <td>0</td>\n",
       "      <td>NaN</td>\n",
       "      <td>1</td>\n",
       "      <td>365</td>\n",
       "    </tr>\n",
       "    <tr>\n",
       "      <th>3</th>\n",
       "      <td>Brooklyn</td>\n",
       "      <td>40.68514</td>\n",
       "      <td>-73.95976</td>\n",
       "      <td>Entire home/apt</td>\n",
       "      <td>89</td>\n",
       "      <td>1</td>\n",
       "      <td>270</td>\n",
       "      <td>4.64</td>\n",
       "      <td>1</td>\n",
       "      <td>194</td>\n",
       "    </tr>\n",
       "    <tr>\n",
       "      <th>4</th>\n",
       "      <td>Manhattan</td>\n",
       "      <td>40.79851</td>\n",
       "      <td>-73.94399</td>\n",
       "      <td>Entire home/apt</td>\n",
       "      <td>80</td>\n",
       "      <td>10</td>\n",
       "      <td>9</td>\n",
       "      <td>0.10</td>\n",
       "      <td>1</td>\n",
       "      <td>0</td>\n",
       "    </tr>\n",
       "  </tbody>\n",
       "</table>\n",
       "</div>"
      ],
      "text/plain": [
       "  neighbourhood_group  latitude  longitude        room_type  price  \\\n",
       "0            Brooklyn  40.64749  -73.97237     Private room    149   \n",
       "1           Manhattan  40.75362  -73.98377  Entire home/apt    225   \n",
       "2           Manhattan  40.80902  -73.94190     Private room    150   \n",
       "3            Brooklyn  40.68514  -73.95976  Entire home/apt     89   \n",
       "4           Manhattan  40.79851  -73.94399  Entire home/apt     80   \n",
       "\n",
       "   minimum_nights  number_of_reviews  reviews_per_month  \\\n",
       "0               1                  9               0.21   \n",
       "1               1                 45               0.38   \n",
       "2               3                  0                NaN   \n",
       "3               1                270               4.64   \n",
       "4              10                  9               0.10   \n",
       "\n",
       "   calculated_host_listings_count  availability_365  \n",
       "0                               6               365  \n",
       "1                               2               355  \n",
       "2                               1               365  \n",
       "3                               1               194  \n",
       "4                               1                 0  "
      ]
     },
     "execution_count": 306,
     "metadata": {},
     "output_type": "execute_result"
    }
   ],
   "source": [
    "df = data[features]\n",
    "df.head()"
   ]
  },
  {
   "cell_type": "code",
   "execution_count": 307,
   "id": "d0d688c0",
   "metadata": {},
   "outputs": [
    {
     "data": {
      "text/plain": [
       "neighbourhood_group                   0\n",
       "latitude                              0\n",
       "longitude                             0\n",
       "room_type                             0\n",
       "price                                 0\n",
       "minimum_nights                        0\n",
       "number_of_reviews                     0\n",
       "reviews_per_month                 10052\n",
       "calculated_host_listings_count        0\n",
       "availability_365                      0\n",
       "dtype: int64"
      ]
     },
     "execution_count": 307,
     "metadata": {},
     "output_type": "execute_result"
    }
   ],
   "source": [
    "df.isnull().sum()"
   ]
  },
  {
   "cell_type": "code",
   "execution_count": 308,
   "id": "9ff5f975",
   "metadata": {},
   "outputs": [],
   "source": [
    "# fill missing values\n",
    "df = df.fillna(0)"
   ]
  },
  {
   "cell_type": "code",
   "execution_count": 309,
   "id": "36a0720e",
   "metadata": {},
   "outputs": [
    {
     "data": {
      "text/plain": [
       "neighbourhood_group               0\n",
       "latitude                          0\n",
       "longitude                         0\n",
       "room_type                         0\n",
       "price                             0\n",
       "minimum_nights                    0\n",
       "number_of_reviews                 0\n",
       "reviews_per_month                 0\n",
       "calculated_host_listings_count    0\n",
       "availability_365                  0\n",
       "dtype: int64"
      ]
     },
     "execution_count": 309,
     "metadata": {},
     "output_type": "execute_result"
    }
   ],
   "source": [
    "df.isnull().sum()"
   ]
  },
  {
   "cell_type": "markdown",
   "id": "1909ffa6",
   "metadata": {},
   "source": [
    "### Question 1\n",
    "\n",
    "What is the most frequent observation (mode) for the column `'neighbourhood_group'`?"
   ]
  },
  {
   "cell_type": "code",
   "execution_count": 310,
   "id": "783db6d3",
   "metadata": {},
   "outputs": [
    {
     "data": {
      "text/plain": [
       "'Manhattan'"
      ]
     },
     "execution_count": 310,
     "metadata": {},
     "output_type": "execute_result"
    }
   ],
   "source": [
    "df['neighbourhood_group'].describe().top"
   ]
  },
  {
   "cell_type": "markdown",
   "id": "cc6c7945",
   "metadata": {},
   "source": [
    "### Split the data\n",
    "\n",
    "* Split your data in train/val/test sets, with 60%/20%/20% distribution.\n",
    "* Use Scikit-Learn for that (the `train_test_split` function) and set the seed to 42.\n",
    "* Make sure that the target value ('price') is not in your dataframe."
   ]
  },
  {
   "cell_type": "code",
   "execution_count": 311,
   "id": "b5daed52",
   "metadata": {},
   "outputs": [],
   "source": [
    "seed = 42 \n",
    "df_full_train, df_test =  train_test_split(df, train_size=0.6,random_state=seed)\n",
    "df_train, df_val = train_test_split(df_full_train, test_size=0.2,random_state=seed)"
   ]
  },
  {
   "cell_type": "code",
   "execution_count": 312,
   "id": "ca035e4c",
   "metadata": {},
   "outputs": [],
   "source": [
    "# Remove target variable \n",
    "y_train = df_train['price']\n",
    "y_test  = df_test['price']\n",
    "y_val   = df_val['price']\n",
    "\n",
    "del df_train['price']\n",
    "del df_test['price']\n",
    "del df_val['price']"
   ]
  },
  {
   "cell_type": "code",
   "execution_count": 313,
   "id": "a9599e1f",
   "metadata": {},
   "outputs": [],
   "source": [
    "# Reset index\n",
    "df_train = df_train.reset_index(drop=True)\n",
    "df_test = df_test.reset_index(drop=True)\n",
    "df_val = df_val.reset_index(drop=True)"
   ]
  },
  {
   "cell_type": "code",
   "execution_count": 314,
   "id": "e34dcc4e",
   "metadata": {},
   "outputs": [
    {
     "data": {
      "text/html": [
       "<div>\n",
       "<style scoped>\n",
       "    .dataframe tbody tr th:only-of-type {\n",
       "        vertical-align: middle;\n",
       "    }\n",
       "\n",
       "    .dataframe tbody tr th {\n",
       "        vertical-align: top;\n",
       "    }\n",
       "\n",
       "    .dataframe thead th {\n",
       "        text-align: right;\n",
       "    }\n",
       "</style>\n",
       "<table border=\"1\" class=\"dataframe\">\n",
       "  <thead>\n",
       "    <tr style=\"text-align: right;\">\n",
       "      <th></th>\n",
       "      <th>neighbourhood_group</th>\n",
       "      <th>latitude</th>\n",
       "      <th>longitude</th>\n",
       "      <th>room_type</th>\n",
       "      <th>minimum_nights</th>\n",
       "      <th>number_of_reviews</th>\n",
       "      <th>reviews_per_month</th>\n",
       "      <th>calculated_host_listings_count</th>\n",
       "      <th>availability_365</th>\n",
       "    </tr>\n",
       "  </thead>\n",
       "  <tbody>\n",
       "    <tr>\n",
       "      <th>0</th>\n",
       "      <td>Brooklyn</td>\n",
       "      <td>40.71286</td>\n",
       "      <td>-73.95648</td>\n",
       "      <td>Private room</td>\n",
       "      <td>3</td>\n",
       "      <td>0</td>\n",
       "      <td>0.00</td>\n",
       "      <td>1</td>\n",
       "      <td>365</td>\n",
       "    </tr>\n",
       "    <tr>\n",
       "      <th>1</th>\n",
       "      <td>Queens</td>\n",
       "      <td>40.71576</td>\n",
       "      <td>-73.86268</td>\n",
       "      <td>Entire home/apt</td>\n",
       "      <td>2</td>\n",
       "      <td>97</td>\n",
       "      <td>1.43</td>\n",
       "      <td>1</td>\n",
       "      <td>230</td>\n",
       "    </tr>\n",
       "    <tr>\n",
       "      <th>2</th>\n",
       "      <td>Brooklyn</td>\n",
       "      <td>40.68166</td>\n",
       "      <td>-73.94325</td>\n",
       "      <td>Entire home/apt</td>\n",
       "      <td>2</td>\n",
       "      <td>20</td>\n",
       "      <td>0.31</td>\n",
       "      <td>1</td>\n",
       "      <td>355</td>\n",
       "    </tr>\n",
       "  </tbody>\n",
       "</table>\n",
       "</div>"
      ],
      "text/plain": [
       "  neighbourhood_group  latitude  longitude        room_type  minimum_nights  \\\n",
       "0            Brooklyn  40.71286  -73.95648     Private room               3   \n",
       "1              Queens  40.71576  -73.86268  Entire home/apt               2   \n",
       "2            Brooklyn  40.68166  -73.94325  Entire home/apt               2   \n",
       "\n",
       "   number_of_reviews  reviews_per_month  calculated_host_listings_count  \\\n",
       "0                  0               0.00                               1   \n",
       "1                 97               1.43                               1   \n",
       "2                 20               0.31                               1   \n",
       "\n",
       "   availability_365  \n",
       "0               365  \n",
       "1               230  \n",
       "2               355  "
      ]
     },
     "execution_count": 314,
     "metadata": {},
     "output_type": "execute_result"
    }
   ],
   "source": [
    "df_train.head(3)"
   ]
  },
  {
   "cell_type": "markdown",
   "id": "83b24681",
   "metadata": {},
   "source": [
    "### Question 2\n",
    "\n",
    "* Create the [correlation matrix](https://www.google.com/search?q=correlation+matrix) for the numerical features of your train dataset.\n",
    "   * In a correlation matrix, you compute the correlation coefficient between every pair of features in the dataset.\n",
    "* What are the two features that have the biggest correlation in this dataset?\n",
    "\n",
    "Example of a correlation matrix for the car price dataset:\n",
    "\n",
    "<img src=\"images/correlation-matrix.png\" />"
   ]
  },
  {
   "cell_type": "code",
   "execution_count": 315,
   "id": "87236824",
   "metadata": {},
   "outputs": [
    {
     "data": {
      "text/plain": [
       "['latitude',\n",
       " 'longitude',\n",
       " 'minimum_nights',\n",
       " 'number_of_reviews',\n",
       " 'reviews_per_month',\n",
       " 'calculated_host_listings_count',\n",
       " 'availability_365']"
      ]
     },
     "execution_count": 315,
     "metadata": {},
     "output_type": "execute_result"
    }
   ],
   "source": [
    "numerical = list(df_train.dtypes[df_train.dtypes!='object'].index)\n",
    "numerical"
   ]
  },
  {
   "cell_type": "code",
   "execution_count": 316,
   "id": "49959102",
   "metadata": {},
   "outputs": [
    {
     "data": {
      "text/html": [
       "<div>\n",
       "<style scoped>\n",
       "    .dataframe tbody tr th:only-of-type {\n",
       "        vertical-align: middle;\n",
       "    }\n",
       "\n",
       "    .dataframe tbody tr th {\n",
       "        vertical-align: top;\n",
       "    }\n",
       "\n",
       "    .dataframe thead th {\n",
       "        text-align: right;\n",
       "    }\n",
       "</style>\n",
       "<table border=\"1\" class=\"dataframe\">\n",
       "  <thead>\n",
       "    <tr style=\"text-align: right;\">\n",
       "      <th></th>\n",
       "      <th>latitude</th>\n",
       "      <th>longitude</th>\n",
       "      <th>minimum_nights</th>\n",
       "      <th>number_of_reviews</th>\n",
       "      <th>reviews_per_month</th>\n",
       "      <th>calculated_host_listings_count</th>\n",
       "      <th>availability_365</th>\n",
       "    </tr>\n",
       "  </thead>\n",
       "  <tbody>\n",
       "    <tr>\n",
       "      <th>latitude</th>\n",
       "      <td>1.000000</td>\n",
       "      <td>0.086690</td>\n",
       "      <td>0.031609</td>\n",
       "      <td>-0.012492</td>\n",
       "      <td>-0.019288</td>\n",
       "      <td>0.020220</td>\n",
       "      <td>-0.002485</td>\n",
       "    </tr>\n",
       "    <tr>\n",
       "      <th>longitude</th>\n",
       "      <td>0.086690</td>\n",
       "      <td>1.000000</td>\n",
       "      <td>-0.067138</td>\n",
       "      <td>0.055343</td>\n",
       "      <td>0.136692</td>\n",
       "      <td>-0.117541</td>\n",
       "      <td>0.082467</td>\n",
       "    </tr>\n",
       "    <tr>\n",
       "      <th>minimum_nights</th>\n",
       "      <td>0.031609</td>\n",
       "      <td>-0.067138</td>\n",
       "      <td>1.000000</td>\n",
       "      <td>-0.082787</td>\n",
       "      <td>-0.126538</td>\n",
       "      <td>0.120989</td>\n",
       "      <td>0.139308</td>\n",
       "    </tr>\n",
       "    <tr>\n",
       "      <th>number_of_reviews</th>\n",
       "      <td>-0.012492</td>\n",
       "      <td>0.055343</td>\n",
       "      <td>-0.082787</td>\n",
       "      <td>1.000000</td>\n",
       "      <td>0.583910</td>\n",
       "      <td>-0.073260</td>\n",
       "      <td>0.174562</td>\n",
       "    </tr>\n",
       "    <tr>\n",
       "      <th>reviews_per_month</th>\n",
       "      <td>-0.019288</td>\n",
       "      <td>0.136692</td>\n",
       "      <td>-0.126538</td>\n",
       "      <td>0.583910</td>\n",
       "      <td>1.000000</td>\n",
       "      <td>-0.048592</td>\n",
       "      <td>0.167429</td>\n",
       "    </tr>\n",
       "    <tr>\n",
       "      <th>calculated_host_listings_count</th>\n",
       "      <td>0.020220</td>\n",
       "      <td>-0.117541</td>\n",
       "      <td>0.120989</td>\n",
       "      <td>-0.073260</td>\n",
       "      <td>-0.048592</td>\n",
       "      <td>1.000000</td>\n",
       "      <td>0.223109</td>\n",
       "    </tr>\n",
       "    <tr>\n",
       "      <th>availability_365</th>\n",
       "      <td>-0.002485</td>\n",
       "      <td>0.082467</td>\n",
       "      <td>0.139308</td>\n",
       "      <td>0.174562</td>\n",
       "      <td>0.167429</td>\n",
       "      <td>0.223109</td>\n",
       "      <td>1.000000</td>\n",
       "    </tr>\n",
       "  </tbody>\n",
       "</table>\n",
       "</div>"
      ],
      "text/plain": [
       "                                latitude  longitude  minimum_nights  \\\n",
       "latitude                        1.000000   0.086690        0.031609   \n",
       "longitude                       0.086690   1.000000       -0.067138   \n",
       "minimum_nights                  0.031609  -0.067138        1.000000   \n",
       "number_of_reviews              -0.012492   0.055343       -0.082787   \n",
       "reviews_per_month              -0.019288   0.136692       -0.126538   \n",
       "calculated_host_listings_count  0.020220  -0.117541        0.120989   \n",
       "availability_365               -0.002485   0.082467        0.139308   \n",
       "\n",
       "                                number_of_reviews  reviews_per_month  \\\n",
       "latitude                                -0.012492          -0.019288   \n",
       "longitude                                0.055343           0.136692   \n",
       "minimum_nights                          -0.082787          -0.126538   \n",
       "number_of_reviews                        1.000000           0.583910   \n",
       "reviews_per_month                        0.583910           1.000000   \n",
       "calculated_host_listings_count          -0.073260          -0.048592   \n",
       "availability_365                         0.174562           0.167429   \n",
       "\n",
       "                                calculated_host_listings_count  \\\n",
       "latitude                                              0.020220   \n",
       "longitude                                            -0.117541   \n",
       "minimum_nights                                        0.120989   \n",
       "number_of_reviews                                    -0.073260   \n",
       "reviews_per_month                                    -0.048592   \n",
       "calculated_host_listings_count                        1.000000   \n",
       "availability_365                                      0.223109   \n",
       "\n",
       "                                availability_365  \n",
       "latitude                               -0.002485  \n",
       "longitude                               0.082467  \n",
       "minimum_nights                          0.139308  \n",
       "number_of_reviews                       0.174562  \n",
       "reviews_per_month                       0.167429  \n",
       "calculated_host_listings_count          0.223109  \n",
       "availability_365                        1.000000  "
      ]
     },
     "execution_count": 316,
     "metadata": {},
     "output_type": "execute_result"
    }
   ],
   "source": [
    "# Get correlation matrix\n",
    "corr_matrix = df_train[numerical].corr()\n",
    "corr_matrix"
   ]
  },
  {
   "cell_type": "markdown",
   "id": "223a5bdd",
   "metadata": {},
   "source": [
    "### Answer #2\n",
    "\n",
    "The 2 features most correlated are: \n",
    "- number_of_reviews and reviews_per_month with 0.58 \n",
    "- calculated_host_listings_count and availability_365 with 0.22"
   ]
  },
  {
   "cell_type": "markdown",
   "id": "b58c8b70",
   "metadata": {},
   "source": [
    "### Make price binary\n",
    "\n",
    "* We need to turn the price variable from numeric into binary.\n",
    "* Let's create a variable `above_average` which is `1` if the price is above (or equal to) `152`."
   ]
  },
  {
   "cell_type": "code",
   "execution_count": 317,
   "id": "86f0217a",
   "metadata": {},
   "outputs": [],
   "source": [
    "y_train_above_avg = (y_train.values >= 152).astype(int)\n",
    "y_test_above_avg = (y_test.values >= 152).astype(int)\n",
    "y_val_above_avg = (y_val.values >= 152).astype(int)"
   ]
  },
  {
   "cell_type": "code",
   "execution_count": 318,
   "id": "2cf45389",
   "metadata": {},
   "outputs": [
    {
     "name": "stdout",
     "output_type": "stream",
     "text": [
      "[1 0 0 0 0]\n"
     ]
    },
    {
     "data": {
      "text/plain": [
       "29700    175\n",
       "3246      85\n",
       "3170     149\n",
       "3017     116\n",
       "16021     60\n",
       "Name: price, dtype: int64"
      ]
     },
     "execution_count": 318,
     "metadata": {},
     "output_type": "execute_result"
    }
   ],
   "source": [
    "# Validate the new column against the real value\n",
    "print(y_train_above_avg[:5])\n",
    "y_train[:5]"
   ]
  },
  {
   "cell_type": "markdown",
   "id": "7391b702",
   "metadata": {},
   "source": [
    "### Question 3\n",
    "\n",
    "* Calculate the mutual information score with the (binarized) price for the two categorical variables that we have. Use the training set only.\n",
    "* Which of these two variables has bigger score?\n",
    "* Round it to 2 decimal digits using `round(score, 2)`"
   ]
  },
  {
   "cell_type": "code",
   "execution_count": 319,
   "id": "8492f89d",
   "metadata": {},
   "outputs": [],
   "source": [
    "from sklearn.metrics import mutual_info_score"
   ]
  },
  {
   "cell_type": "code",
   "execution_count": 320,
   "id": "11abe5cb",
   "metadata": {},
   "outputs": [
    {
     "data": {
      "text/plain": [
       "['neighbourhood_group', 'room_type']"
      ]
     },
     "execution_count": 320,
     "metadata": {},
     "output_type": "execute_result"
    }
   ],
   "source": [
    "categorical = list(df_train.dtypes[df_train.dtypes==object].index)\n",
    "categorical"
   ]
  },
  {
   "cell_type": "code",
   "execution_count": 321,
   "id": "943a927a",
   "metadata": {},
   "outputs": [
    {
     "name": "stdout",
     "output_type": "stream",
     "text": [
      "Score between price and neighbourhood_group: 0.05\n",
      "Score between price and room_type: 0.14\n"
     ]
    }
   ],
   "source": [
    "# Between churn and contract\n",
    "for cat in categorical:\n",
    "    score = mutual_info_score(y_train_above_avg, df_train[cat])\n",
    "    print(f\"Score between price and {cat}: {score.round(2)}\")"
   ]
  },
  {
   "cell_type": "markdown",
   "id": "645816e8",
   "metadata": {},
   "source": [
    "### Answer 3 \n",
    "\n",
    "Room type has the bigger score. "
   ]
  },
  {
   "cell_type": "markdown",
   "id": "45861a76",
   "metadata": {},
   "source": [
    "### Question 4\n",
    "\n",
    "* Now let's train a logistic regression\n",
    "* Remember that we have two categorical variables in the data. Include them using one-hot encoding.\n",
    "* Fit the model on the training dataset.\n",
    "   * To make sure the results are reproducible across different versions of Scikit-Learn, fit the model with these parameters:\n",
    "   * `model = LogisticRegression(solver='lbfgs', C=1.0, random_state=42)`\n",
    "* Calculate the accuracy on the validation dataset and rount it to 2 decimal digits."
   ]
  },
  {
   "cell_type": "code",
   "execution_count": 322,
   "id": "60efdeb6",
   "metadata": {},
   "outputs": [],
   "source": [
    "# One hot encoding\n",
    "from sklearn.feature_extraction import DictVectorizer\n",
    "\n",
    "dv = DictVectorizer(sparse=False)\n",
    "train_dict = df_train[categorical + numerical].to_dict(orient='records')\n",
    "# Get X_train\n",
    "X_train = dv.fit_transform(train_dict)\n",
    "\n",
    "# Get X_val \n",
    "val_dict = df_val[categorical + numerical].to_dict(orient='records')\n",
    "X_val = dv.transform(val_dict)"
   ]
  },
  {
   "cell_type": "code",
   "execution_count": 323,
   "id": "a0ab6173",
   "metadata": {},
   "outputs": [
    {
     "data": {
      "text/plain": [
       "['availability_365',\n",
       " 'calculated_host_listings_count',\n",
       " 'latitude',\n",
       " 'longitude',\n",
       " 'minimum_nights',\n",
       " 'neighbourhood_group=Bronx',\n",
       " 'neighbourhood_group=Brooklyn',\n",
       " 'neighbourhood_group=Manhattan',\n",
       " 'neighbourhood_group=Queens',\n",
       " 'neighbourhood_group=Staten Island',\n",
       " 'number_of_reviews',\n",
       " 'reviews_per_month',\n",
       " 'room_type=Entire home/apt',\n",
       " 'room_type=Private room',\n",
       " 'room_type=Shared room']"
      ]
     },
     "execution_count": 323,
     "metadata": {},
     "output_type": "execute_result"
    }
   ],
   "source": [
    "dv.get_feature_names()"
   ]
  },
  {
   "cell_type": "code",
   "execution_count": 324,
   "id": "b28b7ebf",
   "metadata": {},
   "outputs": [
    {
     "data": {
      "text/plain": [
       "LogisticRegression(random_state=42)"
      ]
     },
     "execution_count": 324,
     "metadata": {},
     "output_type": "execute_result"
    }
   ],
   "source": [
    "# Training the model \n",
    "from sklearn.linear_model import LogisticRegression\n",
    "\n",
    "model = LogisticRegression(solver='lbfgs', C=1.0, random_state=42)\n",
    "model.fit(X_train, y_train_above_avg)"
   ]
  },
  {
   "cell_type": "code",
   "execution_count": 325,
   "id": "f174b8b9",
   "metadata": {},
   "outputs": [
    {
     "data": {
      "text/plain": [
       "-0.002445387122932676"
      ]
     },
     "execution_count": 325,
     "metadata": {},
     "output_type": "execute_result"
    }
   ],
   "source": [
    "model.intercept_[0]"
   ]
  },
  {
   "cell_type": "code",
   "execution_count": 326,
   "id": "bcfe4a66",
   "metadata": {},
   "outputs": [
    {
     "data": {
      "text/plain": [
       "array([[ 0.00319479,  0.00519523, -0.21866832, -0.08922699, -0.00997329,\n",
       "        -0.35468284,  0.12569755,  1.14716032, -0.8021554 , -0.11845967,\n",
       "        -0.00271842, -0.0673488 ,  1.72121705, -1.29844574, -0.42521136]])"
      ]
     },
     "execution_count": 326,
     "metadata": {},
     "output_type": "execute_result"
    }
   ],
   "source": [
    "model.coef_"
   ]
  },
  {
   "cell_type": "code",
   "execution_count": 327,
   "id": "d230cc70",
   "metadata": {},
   "outputs": [
    {
     "data": {
      "text/plain": [
       "array([[0.47495395, 0.52504605],\n",
       "       [0.9437828 , 0.0562172 ],\n",
       "       [0.38300922, 0.61699078],\n",
       "       ...,\n",
       "       [0.9788833 , 0.0211167 ],\n",
       "       [0.61937829, 0.38062171],\n",
       "       [0.15232948, 0.84767052]])"
      ]
     },
     "execution_count": 327,
     "metadata": {},
     "output_type": "execute_result"
    }
   ],
   "source": [
    "# Get accuraccy \n",
    "\n",
    "# Get the predictions on validation set\n",
    "y_pred = model.predict_proba(X_val)\n",
    "y_pred"
   ]
  },
  {
   "cell_type": "code",
   "execution_count": 328,
   "id": "09e844d0",
   "metadata": {},
   "outputs": [
    {
     "data": {
      "text/plain": [
       "array([0.52504605, 0.0562172 , 0.61699078, ..., 0.0211167 , 0.38062171,\n",
       "       0.84767052])"
      ]
     },
     "execution_count": 328,
     "metadata": {},
     "output_type": "execute_result"
    }
   ],
   "source": [
    "# Get positive class only \n",
    "y_pred = y_pred[:,1]\n",
    "y_pred"
   ]
  },
  {
   "cell_type": "code",
   "execution_count": 329,
   "id": "320beff8",
   "metadata": {},
   "outputs": [],
   "source": [
    "price_decision = (y_pred >= 0.5 )"
   ]
  },
  {
   "cell_type": "code",
   "execution_count": 330,
   "id": "e78ea555",
   "metadata": {},
   "outputs": [
    {
     "data": {
      "text/plain": [
       "0.787321063394683"
      ]
     },
     "execution_count": 330,
     "metadata": {},
     "output_type": "execute_result"
    }
   ],
   "source": [
    "(y_val_above_avg == price_decision).mean()"
   ]
  },
  {
   "cell_type": "code",
   "execution_count": 331,
   "id": "d8601437",
   "metadata": {},
   "outputs": [],
   "source": [
    "df_pred = pd.DataFrame()\n",
    "df_pred['probability'] = y_pred\n",
    "df_pred['prediction'] = price_decision.astype(int)\n",
    "df_pred['actual'] = y_val_above_avg\n",
    "df_pred['correct'] = df_pred.prediction == df_pred.actual"
   ]
  },
  {
   "cell_type": "code",
   "execution_count": 359,
   "id": "a1620a76",
   "metadata": {},
   "outputs": [
    {
     "name": "stdout",
     "output_type": "stream",
     "text": [
      "Accuracy on validation set: 78.73%\n"
     ]
    }
   ],
   "source": [
    "acc = round(df_pred.correct.mean(),4)\n",
    "print(f\"Accuracy on validation set: {acc*100}%\")"
   ]
  },
  {
   "cell_type": "markdown",
   "id": "b43212b4",
   "metadata": {},
   "source": [
    "### Question 5\n",
    "\n",
    "* We have 9 features: 7 numerical features and 2 categorical.\n",
    "* Let's find the least useful one using the *feature elimination* technique.\n",
    "* Train a model with all these features (using the same parameters as in Q4).\n",
    "* Now exclude each feature from this set and train a model without it. Record the accuracy for each model.\n",
    "* For each feature, calculate the difference between the original accuracy and the accuracy without the feature. \n",
    "* Which of following feature has the smallest difference? \n",
    "   * `neighbourhood_group`\n",
    "   * `room_type` \n",
    "   * `number_of_reviews`\n",
    "   * `reviews_per_month`\n",
    "\n",
    "> **note**: the difference doesn't have to be positive"
   ]
  },
  {
   "cell_type": "code",
   "execution_count": 352,
   "id": "ed56f35f",
   "metadata": {},
   "outputs": [],
   "source": [
    "def one_hot_dict_vectorizer_exclude(exclude=None):\n",
    "\n",
    "    df_train_all = df_train[categorical + numerical].drop(exclude, axis=1) \n",
    "    dv = DictVectorizer(sparse=False)\n",
    "    train_dict = df_train_all.to_dict(orient='records')\n",
    "    # Get X_train\n",
    "    X_train = dv.fit_transform(train_dict)\n",
    "    \n",
    "    # Get X_val \n",
    "    df_val_all = df_val[categorical + numerical].drop(exclude, axis=1) \n",
    "    val_dict = df_val_all.to_dict(orient='records')\n",
    "    X_val = dv.transform(val_dict)  \n",
    "    \n",
    "    return X_train, X_val"
   ]
  },
  {
   "cell_type": "code",
   "execution_count": 354,
   "id": "7fbb42cc",
   "metadata": {},
   "outputs": [],
   "source": [
    "def train_model(X_train, X_val):\n",
    "    model = LogisticRegression(solver='lbfgs', C=1.0, random_state=42)\n",
    "    model.fit(X_train, y_train_above_avg)\n",
    "    y_pred = model.predict_proba(X_val)[:,1]\n",
    "    \n",
    "    df_pred = pd.DataFrame()\n",
    "    df_pred['probability'] = y_pred\n",
    "    price_decision = (y_pred >= 0.5 )\n",
    "    df_pred['prediction'] = price_decision.astype(int)\n",
    "    df_pred['actual'] = y_val_above_avg\n",
    "    df_pred['correct'] = df_pred.prediction == df_pred.actual\n",
    "    acc = round(df_pred.correct.mean(),4)\n",
    "    return acc"
   ]
  },
  {
   "cell_type": "code",
   "execution_count": 355,
   "id": "57316203",
   "metadata": {},
   "outputs": [],
   "source": [
    "import warnings\n",
    "warnings.filterwarnings('ignore')"
   ]
  },
  {
   "cell_type": "code",
   "execution_count": 356,
   "id": "1ba9ab4f",
   "metadata": {},
   "outputs": [],
   "source": [
    "all_features = categorical + numerical\n",
    "accuracies = {}\n",
    "for feature in all_features:\n",
    "    x_train, x_val = one_hot_dict_vectorizer_exclude(exclude=feature)\n",
    "    accuracies[feature] = train_model(x_train, x_val)"
   ]
  },
  {
   "cell_type": "code",
   "execution_count": 360,
   "id": "c1e44b40",
   "metadata": {},
   "outputs": [
    {
     "data": {
      "text/plain": [
       "{'neighbourhood_group': 0.7469,\n",
       " 'room_type': 0.721,\n",
       " 'latitude': 0.7899,\n",
       " 'longitude': 0.7889,\n",
       " 'minimum_nights': 0.7865,\n",
       " 'number_of_reviews': 0.788,\n",
       " 'reviews_per_month': 0.788,\n",
       " 'calculated_host_listings_count': 0.7872,\n",
       " 'availability_365': 0.7872}"
      ]
     },
     "execution_count": 360,
     "metadata": {},
     "output_type": "execute_result"
    }
   ],
   "source": [
    "accuracies"
   ]
  },
  {
   "cell_type": "code",
   "execution_count": 361,
   "id": "12e54fed",
   "metadata": {},
   "outputs": [
    {
     "name": "stdout",
     "output_type": "stream",
     "text": [
      "{'neighbourhood_group': 0.04039999999999999, 'room_type': 0.06630000000000003, 'number_of_reviews': -0.0007000000000000339, 'reviews_per_month': -0.0007000000000000339}\n"
     ]
    }
   ],
   "source": [
    "differences = {}\n",
    "for key in ['neighbourhood_group','room_type','number_of_reviews','reviews_per_month']:\n",
    "    differences[key] = acc - accuracies[key]\n",
    "print(differences)"
   ]
  },
  {
   "cell_type": "markdown",
   "id": "f621f6f2",
   "metadata": {},
   "source": [
    "### Question 6\n",
    "\n",
    "* For this question, we'll see how to use a linear regression model from Scikit-Learn\n",
    "* We'll need to use the original column `'price'`. Apply the logarithmic transformation to this column.\n",
    "* Fit the Ridge regression model on the training data.\n",
    "* This model has a parameter `alpha`. Let's try the following values: `[0, 0.01, 0.1, 1, 10]`\n",
    "* Which of these alphas leads to the best RMSE on the validation set? Round your RMSE scores to 3 decimal digits.\n",
    "\n",
    "If there are multiple options, select the smallest `alpha`."
   ]
  },
  {
   "cell_type": "code",
   "execution_count": 362,
   "id": "81bde27f",
   "metadata": {},
   "outputs": [],
   "source": [
    "# Training the model \n",
    "from sklearn.linear_model import Ridge\n",
    "from sklearn.metrics import mean_squared_error"
   ]
  },
  {
   "cell_type": "code",
   "execution_count": 363,
   "id": "dfdde66f",
   "metadata": {},
   "outputs": [],
   "source": [
    "def one_hot_dict_vectorizer():\n",
    "\n",
    "    dv = DictVectorizer(sparse=False)\n",
    "    train_dict = df_train[categorical + numerical].to_dict(orient='records')\n",
    "    # Get X_train\n",
    "    X_train = dv.fit_transform(train_dict)\n",
    "    \n",
    "    # Get X_val \n",
    "    val_dict = df_val[categorical + numerical].to_dict(orient='records')\n",
    "    X_val = dv.transform(val_dict)  \n",
    "    \n",
    "    return X_train, X_val"
   ]
  },
  {
   "cell_type": "code",
   "execution_count": 364,
   "id": "4e754f7d",
   "metadata": {},
   "outputs": [],
   "source": [
    "def train_model_ridge(X_train, X_val, alpha):\n",
    "    model = Ridge(random_state=42, alpha=alpha)\n",
    "    model.fit(X_train, y_train)\n",
    "    y_pred = model.predict(X_val)\n",
    "    \n",
    "    rmse = mean_squared_error(y_val, y_pred,squared=False)\n",
    "    return round(rmse,3)"
   ]
  },
  {
   "cell_type": "code",
   "execution_count": 365,
   "id": "fdaef47e",
   "metadata": {},
   "outputs": [],
   "source": [
    "x_train, x_val = one_hot_dict_vectorizer()\n",
    "rmses = {}\n",
    "for alpha in [0, 0.01, 0.1, 1, 10]:\n",
    "    rmses[alpha] = train_model_ridge(x_train, x_val, alpha)"
   ]
  },
  {
   "cell_type": "code",
   "execution_count": 366,
   "id": "4a8722b0",
   "metadata": {},
   "outputs": [
    {
     "data": {
      "text/plain": [
       "{0: 237.725, 0.01: 237.737, 0.1: 237.736, 1: 237.727, 10: 237.723}"
      ]
     },
     "execution_count": 366,
     "metadata": {},
     "output_type": "execute_result"
    }
   ],
   "source": [
    "rmses"
   ]
  },
  {
   "cell_type": "code",
   "execution_count": null,
   "id": "5f63c3a2",
   "metadata": {},
   "outputs": [],
   "source": []
  }
 ],
 "metadata": {
  "kernelspec": {
   "display_name": "Python 3 (ipykernel)",
   "language": "python",
   "name": "python3"
  },
  "language_info": {
   "codemirror_mode": {
    "name": "ipython",
    "version": 3
   },
   "file_extension": ".py",
   "mimetype": "text/x-python",
   "name": "python",
   "nbconvert_exporter": "python",
   "pygments_lexer": "ipython3",
   "version": "3.8.10"
  }
 },
 "nbformat": 4,
 "nbformat_minor": 5
}
